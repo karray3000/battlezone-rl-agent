{
 "cells": [
  {
   "cell_type": "markdown",
   "metadata": {},
   "source": [
    "First, let's install the OpenAI gym and Atari environment:"
   ]
  },
  {
   "cell_type": "code",
   "execution_count": null,
   "metadata": {},
   "outputs": [],
   "source": [
    "!pip install gym gym[atari]"
   ]
  },
  {
   "cell_type": "markdown",
   "metadata": {},
   "source": [
    "Needed imports"
   ]
  },
  {
   "cell_type": "code",
   "execution_count": 1,
   "metadata": {},
   "outputs": [],
   "source": [
    "import gym, time\n",
    "import matplotlib.pyplot as plt\n",
    "import numpy as np\n",
    "from skimage import color"
   ]
  },
  {
   "cell_type": "code",
   "execution_count": 2,
   "metadata": {},
   "outputs": [],
   "source": [
    "from collections import deque\n",
    "from copy import deepcopy\n",
    "import random"
   ]
  },
  {
   "cell_type": "markdown",
   "metadata": {},
   "source": [
    "# BattleZone environment\n",
    "Actually, there are 12 environments. The main difference is the observation type:\n",
    "* The \"normal\" environments: observations are the frames of the game. They are bigger and more complex to analyse, but more intuitive.\n",
    "* The RAM environments: observations are a 128-byte arrays, representing the RAM of the Atari console. Lighter to use, but we do not know what each byte represents.\n",
    "\n",
    "The environment is provided in binary so we cannot modify it. Besides, it is hard to replicate the logic behind the spawning of enemies, so we chose to use the OpenAI environments directly. Moreover, the RAM environments are not interpretable, so we go for environments where the observation is the raw image.\n",
    "\n",
    "List of all environments (we choose the first one):\n",
    "\n",
    "```'BattleZone-v0', \n",
    "'BattleZone-v4',\n",
    "'BattleZoneDeterministic-v0', \n",
    "'BattleZoneDeterministic-v4', \n",
    "'BattleZoneNoFrameskip-v0', \n",
    "'BattleZoneNoFrameskip-v4',\n",
    "'BattleZone-ram-v0',\n",
    "'BattleZone-ram-v4',\n",
    "'BattleZone-ramDeterministic-v0', \n",
    "'BattleZone-ramDeterministic-v4', \n",
    "'BattleZone-ramNoFrameskip-v0',\n",
    "'BattleZone-ramNoFrameskip-v4'```"
   ]
  },
  {
   "cell_type": "markdown",
   "metadata": {},
   "source": [
    "## Chosen environment: ```BattleZone-v4```"
   ]
  },
  {
   "cell_type": "markdown",
   "metadata": {},
   "source": [
    "Global variable for rendering"
   ]
  },
  {
   "cell_type": "code",
   "execution_count": 3,
   "metadata": {},
   "outputs": [],
   "source": [
    "RENDER = False"
   ]
  },
  {
   "cell_type": "code",
   "execution_count": 4,
   "metadata": {},
   "outputs": [],
   "source": [
    "env = gym.make('BattleZone-v4')\n",
    "_ = env.reset()"
   ]
  },
  {
   "cell_type": "code",
   "execution_count": 5,
   "metadata": {},
   "outputs": [],
   "source": [
    "for _ in range(200):\n",
    "    obs, rew, done, info = env.step(env.action_space.sample()) # take a random action\n",
    "    if RENDER:\n",
    "        env.render()\n",
    "        time.sleep(0.02)\n",
    "env.close()"
   ]
  },
  {
   "cell_type": "markdown",
   "metadata": {},
   "source": [
    "Observation (210x160 RGB image)"
   ]
  },
  {
   "cell_type": "code",
   "execution_count": 6,
   "metadata": {},
   "outputs": [
    {
     "data": {
      "text/plain": [
       "<matplotlib.image.AxesImage at 0x7fbee38cf4a8>"
      ]
     },
     "execution_count": 6,
     "metadata": {},
     "output_type": "execute_result"
    },
    {
     "data": {
      "image/png": "[encoded data removed]",
      "text/plain": [
       "<Figure size 432x288 with 1 Axes>"
      ]
     },
     "metadata": {
      "needs_background": "light"
     },
     "output_type": "display_data"
    }
   ],
   "source": [
    "plt.imshow(obs)"
   ]
  },
  {
   "cell_type": "code",
   "execution_count": 7,
   "metadata": {},
   "outputs": [
    {
     "data": {
      "text/plain": [
       "(210, 160, 3)"
      ]
     },
     "execution_count": 7,
     "metadata": {},
     "output_type": "execute_result"
    }
   ],
   "source": [
    "obs.shape"
   ]
  },
  {
   "cell_type": "markdown",
   "metadata": {},
   "source": [
    "### Preprocessing"
   ]
  },
  {
   "cell_type": "markdown",
   "metadata": {},
   "source": [
    "We try to get the dimensions of the interesting parts of the observation:\n",
    "* The radar part (that is in the top middle part of the frame)"
   ]
  },
  {
   "cell_type": "code",
   "execution_count": 8,
   "metadata": {},
   "outputs": [
    {
     "data": {
      "text/plain": [
       "<matplotlib.image.AxesImage at 0x7fbee37d9080>"
      ]
     },
     "execution_count": 8,
     "metadata": {},
     "output_type": "execute_result"
    },
    {
     "data": {
      "image/png": "[encoded data removed]",
      "text/plain": [
       "<Figure size 432x288 with 1 Axes>"
      ]
     },
     "metadata": {
      "needs_background": "light"
     },
     "output_type": "display_data"
    }
   ],
   "source": [
    "plt.imshow(obs[3:36,74:96])"
   ]
  },
  {
   "cell_type": "markdown",
   "metadata": {},
   "source": [
    "* The view from the tank's cockpit, restrained to the green field (and a little of the background mountains) which will contain the moving enemies as well as the projectiles' range and most importantly the cursor indicating what is directly in front of our tank"
   ]
  },
  {
   "cell_type": "code",
   "execution_count": 9,
   "metadata": {},
   "outputs": [
    {
     "data": {
      "text/plain": [
       "<matplotlib.image.AxesImage at 0x7fbee37b0668>"
      ]
     },
     "execution_count": 9,
     "metadata": {},
     "output_type": "execute_result"
    },
    {
     "data": {
      "image/png": "[encoded data removed]",
      "text/plain": [
       "<Figure size 432x288 with 1 Axes>"
      ]
     },
     "metadata": {
      "needs_background": "light"
     },
     "output_type": "display_data"
    }
   ],
   "source": [
    "plt.imshow(obs[80:178,8:])"
   ]
  },
  {
   "cell_type": "markdown",
   "metadata": {},
   "source": [
    "We define our preprocessing functions:"
   ]
  },
  {
   "cell_type": "code",
   "execution_count": 10,
   "metadata": {},
   "outputs": [],
   "source": [
    "def to_gray(img):\n",
    "    # Convert images to grayscale with values between 0 and 1\n",
    "    return color.rgb2gray(img).astype(np.float32)"
   ]
  },
  {
   "cell_type": "code",
   "execution_count": 11,
   "metadata": {},
   "outputs": [],
   "source": [
    "def downsample(img):\n",
    "    # Downsampling an image for faster computing\n",
    "    return img[::2, ::2]"
   ]
  },
  {
   "cell_type": "code",
   "execution_count": 12,
   "metadata": {},
   "outputs": [],
   "source": [
    "def preprocessing(obs):\n",
    "    radar = obs[3:36,74:96]\n",
    "    scene = obs[80:178,8:]\n",
    "    radar = to_gray(radar)\n",
    "    scene = downsample(to_gray(scene))\n",
    "    return radar, scene"
   ]
  },
  {
   "cell_type": "code",
   "execution_count": 13,
   "metadata": {},
   "outputs": [],
   "source": [
    "radar, scene = preprocessing(obs)"
   ]
  },
  {
   "cell_type": "code",
   "execution_count": 14,
   "metadata": {},
   "outputs": [
    {
     "data": {
      "text/plain": [
       "<matplotlib.image.AxesImage at 0x7fbee3791b70>"
      ]
     },
     "execution_count": 14,
     "metadata": {},
     "output_type": "execute_result"
    },
    {
     "data": {
      "image/png": "[encoded data removed]",
      "text/plain": [
       "<Figure size 432x288 with 1 Axes>"
      ]
     },
     "metadata": {
      "needs_background": "light"
     },
     "output_type": "display_data"
    }
   ],
   "source": [
    "plt.imshow(radar, cmap=\"gray\")"
   ]
  },
  {
   "cell_type": "code",
   "execution_count": 15,
   "metadata": {},
   "outputs": [
    {
     "data": {
      "text/plain": [
       "<matplotlib.image.AxesImage at 0x7fbee36e8be0>"
      ]
     },
     "execution_count": 15,
     "metadata": {},
     "output_type": "execute_result"
    },
    {
     "data": {
      "image/png": "[encoded data removed]",
      "text/plain": [
       "<Figure size 432x288 with 1 Axes>"
      ]
     },
     "metadata": {
      "needs_background": "light"
     },
     "output_type": "display_data"
    }
   ],
   "source": [
    "plt.imshow(scene, cmap=\"gray\")"
   ]
  },
  {
   "cell_type": "code",
   "execution_count": 16,
   "metadata": {},
   "outputs": [
    {
     "name": "stdout",
     "output_type": "stream",
     "text": [
      "(33, 22) (49, 76)\n"
     ]
    }
   ],
   "source": [
    "print(radar.shape, scene.shape)"
   ]
  },
  {
   "cell_type": "markdown",
   "metadata": {},
   "source": [
    "# The agent"
   ]
  },
  {
   "cell_type": "markdown",
   "metadata": {},
   "source": [
    "Imports:"
   ]
  },
  {
   "cell_type": "code",
   "execution_count": 17,
   "metadata": {},
   "outputs": [
    {
     "name": "stderr",
     "output_type": "stream",
     "text": [
      "Using TensorFlow backend.\n"
     ]
    }
   ],
   "source": [
    "from keras.layers import Input, Flatten, Dense, Concatenate, Multiply, MaxPooling2D\n",
    "from keras.layers.convolutional import Conv2D\n",
    "from keras.models import Model, Sequential, load_model\n",
    "from keras.optimizers import RMSprop\n",
    "\n",
    "from keras import backend as K\n",
    "from keras.utils import plot_model"
   ]
  },
  {
   "cell_type": "markdown",
   "metadata": {},
   "source": [
    "We will be giving the model a number of frames at a time (the time of the last projectile sent can be a determining factor, so the agent may need it)."
   ]
  },
  {
   "cell_type": "code",
   "execution_count": 18,
   "metadata": {},
   "outputs": [],
   "source": [
    "n_frames = 2 #Number of input frames per input\n",
    "n_actions = 18 #Dimension of action space\n",
    "batch_size = 128 #Number of entries (states+actions) to feed the NN\n",
    "memory_size = 10000 # Memory size for experience replay\n",
    "n_repetition = 3 # Number of frames for which same action is repeated"
   ]
  },
  {
   "cell_type": "markdown",
   "metadata": {},
   "source": [
    "Hyperparameters for training"
   ]
  },
  {
   "cell_type": "code",
   "execution_count": 19,
   "metadata": {},
   "outputs": [],
   "source": [
    "gamma = 0.99\n",
    "epsilon = 1e-6\n",
    "learning_rate = 0.00025"
   ]
  },
  {
   "cell_type": "markdown",
   "metadata": {},
   "source": [
    "We will use a Huber loss function for our model to prevent heavy penalization of high errors (linear instead of quadratic). We will implement the function so it can be used within a Keras neural network."
   ]
  },
  {
   "cell_type": "code",
   "execution_count": 20,
   "metadata": {},
   "outputs": [],
   "source": [
    "def huber_loss(a, b):\n",
    "    e = a - b\n",
    "    quad = e**2 / 2\n",
    "    lin = abs(e) - 1/2\n",
    "    use_lin = (abs(e) > 1.0)\n",
    "    use_lin = K.cast(use_lin, 'float32')\n",
    "    return use_lin * lin + ( 1 - use_lin) * quad"
   ]
  },
  {
   "cell_type": "markdown",
   "metadata": {},
   "source": [
    "Let us define our model:"
   ]
  },
  {
   "cell_type": "code",
   "execution_count": 21,
   "metadata": {},
   "outputs": [],
   "source": [
    "def model():\n",
    "    \n",
    "    # Shape of entries\n",
    "    scene_shape = (n_frames, 49, 76,)\n",
    "    radar_shape = (n_frames, 33 * 22,) # Since we will be using a fully connected network here,\n",
    "                                    # we will provide a flattened version of the radar frame\n",
    "    \n",
    "    # Input layers\n",
    "    scene_inp = Input(scene_shape, name='scenes')\n",
    "    radar_inp = Input(radar_shape, name='radars')\n",
    "    actions_inp = Input((n_actions,), name='actions')\n",
    "    \n",
    "    # Hidden layers for the scene\n",
    "    conv1 = Conv2D(filters=8,\n",
    "                   kernel_size=(8, 8),\n",
    "                   strides=(4, 4),\n",
    "                   activation='relu',\n",
    "                   data_format=\"channels_first\")(scene_inp)\n",
    "    \n",
    "    maxpool1 = MaxPooling2D(pool_size=(4, 4),\n",
    "                            strides=(4, 4))(conv1)\n",
    "   \n",
    "    scene_output = Flatten('channels_first')(maxpool1)\n",
    "    \n",
    "    # Hidden layers for the radar\n",
    "    \n",
    "    radar_hidden = Dense(512, activation=\"relu\")(radar_inp)\n",
    "    radar_hidden_flattened = Flatten()(radar_hidden)\n",
    "    radar_output = Dense(128, activation=\"relu\")(radar_hidden_flattened)\n",
    "        \n",
    "    # Last hidden layer\n",
    "    hidden_last = Concatenate(axis=1)([scene_output, radar_output])\n",
    "    \n",
    "    # Output\n",
    "    output = Dense(n_actions, activation='softmax')(hidden_last)\n",
    "\n",
    "    # Multiply by the actions (mask for training)\n",
    "    filtered_output = Multiply()([output, actions_inp])\n",
    "    \n",
    "    # Create the model\n",
    "    model = Model(input=[scene_inp, radar_inp, actions_inp], \n",
    "                  output=filtered_output,\n",
    "                 )\n",
    "    \n",
    "    # Optimizer choice and tuning\n",
    "    rms = RMSprop(lr = learning_rate)\n",
    "    \n",
    "    # Compiling\n",
    "    model.compile(optimizer=rms, loss=huber_loss)\n",
    "    \n",
    "    return model\n",
    "    "
   ]
  },
  {
   "cell_type": "markdown",
   "metadata": {},
   "source": [
    "Defining the model and visualising its graph"
   ]
  },
  {
   "cell_type": "code",
   "execution_count": 22,
   "metadata": {},
   "outputs": [
    {
     "name": "stderr",
     "output_type": "stream",
     "text": [
      "/home/lotfi/.local/lib/python3.6/site-packages/ipykernel_launcher.py:42: UserWarning: Update your `Model` call to the Keras 2 API: `Model(inputs=[<tf.Tenso..., outputs=Tensor(\"mu...)`\n"
     ]
    }
   ],
   "source": [
    "model_sample= model()\n",
    "plot_model(model_sample,\n",
    "           to_file='model.png',\n",
    "           show_shapes=True)"
   ]
  },
  {
   "cell_type": "markdown",
   "metadata": {},
   "source": [
    "Functions for preprocessing the observation and choosing an action:"
   ]
  },
  {
   "cell_type": "code",
   "execution_count": 23,
   "metadata": {},
   "outputs": [],
   "source": [
    "def stack_frames(stacked_radars, stacked_scenes, observation):\n",
    "    radar, scene = preprocessing(observation)\n",
    "    if (len(stacked_radars) < n_frames):\n",
    "        for _ in range(n_frames):\n",
    "            stacked_radars.append(radar)\n",
    "            stacked_scenes.append(scene)\n",
    "    else:\n",
    "        stacked_radars.append(radar)\n",
    "        stacked_scenes.append(scene)\n",
    "    return stacked_radars, stacked_scenes"
   ]
  },
  {
   "cell_type": "code",
   "execution_count": 24,
   "metadata": {},
   "outputs": [],
   "source": [
    "def choose_action(model, stacked_radars, stacked_scenes, batch_size=1):\n",
    "# Choose the best action according to the model's prediction\n",
    "\n",
    "    # Reshaping for the model to use\n",
    "    radars = list(stacked_radars)\n",
    "    radars = np.reshape(radars, (batch_size, n_frames, 22 * 33))\n",
    "    \n",
    "    scenes = list(stacked_scenes)\n",
    "    scenes = np.reshape(scenes, (batch_size, n_frames, 49, 76))\n",
    "    \n",
    "    \n",
    "    # Predicting the output for a vector of ones\n",
    "    prediction = model.predict([scenes, radars, np.ones((1,n_actions))])\n",
    "    \n",
    "    # Returning the prediction with the max Q-value\n",
    "    return np.argmax(prediction[0][-1])"
   ]
  },
  {
   "cell_type": "markdown",
   "metadata": {},
   "source": [
    "Playing a game with the current model"
   ]
  },
  {
   "cell_type": "code",
   "execution_count": 25,
   "metadata": {},
   "outputs": [],
   "source": [
    "def run_game(n_games, model):\n",
    "    \n",
    "    rew_max = 0\n",
    "    \n",
    "    for _ in range(n_games):\n",
    "        \n",
    "        env.reset()\n",
    "        \n",
    "        rew_total = 0\n",
    "        action = 0\n",
    "        \n",
    "        done = False\n",
    "        is_terminal = np.zeros((1, 18))\n",
    "        \n",
    "        stacked_radars = deque([], maxlen=n_frames)\n",
    "        stacked_scenes = deque([], maxlen=n_frames)\n",
    "        \n",
    "        previous_radars = list()\n",
    "        previous_scenes = list()\n",
    "        \n",
    "        while not done :\n",
    "            \n",
    "            if RENDER:\n",
    "                env.render()\n",
    "                time.sleep(0.01)\n",
    "            \n",
    "            for _ in range(n_repetition):\n",
    "                observation, rew, done, info = env.step(action)\n",
    "            \n",
    "            rew += 0.1 # We reward our agent for surviving\n",
    "            rew_total += rew\n",
    "            \n",
    "            stacked_radars, stacked_scenes = stack_frames(stacked_radars, stacked_scenes, observation)\n",
    "            \n",
    "            action = choose_action(model, stacked_radars, stacked_scenes)\n",
    "            \n",
    "            if done:\n",
    "                is_terminal[0,action] = True\n",
    "                        \n",
    "            \n",
    "        rew_max = max(rew_max, rew_total)\n",
    "        env.close()\n",
    "    \n",
    "    return rew_max"
   ]
  },
  {
   "cell_type": "code",
   "execution_count": 26,
   "metadata": {
    "scrolled": true
   },
   "outputs": [
    {
     "data": {
      "text/plain": [
       "53.30000000000049"
      ]
     },
     "execution_count": 26,
     "metadata": {},
     "output_type": "execute_result"
    }
   ],
   "source": [
    "run_game(1, model_sample)"
   ]
  },
  {
   "cell_type": "markdown",
   "metadata": {},
   "source": [
    "# Training the agent"
   ]
  },
  {
   "cell_type": "markdown",
   "metadata": {},
   "source": [
    "## Memory for experience replay\n",
    "We will be using a buffer (a ring buffer specifically) in order to put a limit to the memory usage (and prevent any saturation or malfunctioning of our agent)."
   ]
  },
  {
   "cell_type": "code",
   "execution_count": 28,
   "metadata": {},
   "outputs": [],
   "source": [
    "class RingBuf:\n",
    "    \n",
    "    def __init__(self, size):\n",
    "        # We allocate one extra element, so that self.start == self.end always means the buffer is empty\n",
    "        self.data = [None] * (size + 1) # Size will indicate the size of memory we want to allocate\n",
    "        self.start = 0\n",
    "        self.end = 0\n",
    "        \n",
    "    def append(self, element):\n",
    "        self.data[self.end] = element\n",
    "        self.end = (self.end + 1) % len(self.data)\n",
    "        # end == start means the buffer has one too many elements\n",
    "        # We then remove the first element by incrementing start\n",
    "        if (self.end == self.start):\n",
    "            self.start = (self.start + 1) % len(self.data)\n",
    "        \n",
    "    def __getitem__(self, index):\n",
    "        return self.data[(self.start + index) % len(self.data)]\n",
    "    \n",
    "    def __len__(self):\n",
    "        if (self.end < self.start):\n",
    "            return (self.end + len(self.data) - self.start)\n",
    "        else:\n",
    "            return (self.end - self.start)\n",
    "        \n",
    "    def __iter__(self):\n",
    "        for i in range(len(self)):\n",
    "            yield self[i]\n",
    "    \n",
    "    def get_sample(self, size):\n",
    "        l = list()\n",
    "        for _ in range(size):\n",
    "            if self.end < self.start:\n",
    "                i = random.randint(0, len(self))\n",
    "            l.append(self.data[i])\n",
    "        return l"
   ]
  },
  {
   "cell_type": "code",
   "execution_count": 29,
   "metadata": {},
   "outputs": [],
   "source": [
    "memory = RingBuf(memory_size)"
   ]
  },
  {
   "cell_type": "markdown",
   "metadata": {},
   "source": [
    "Now that our model and memory are defined, we will implement a function that will run a fitting iteration: We will be using a Deep Q-learning approach, improving our network everytime the agent makes an action. When fitting, we fit a new model using the Q-values from a target model for more stability."
   ]
  },
  {
   "cell_type": "code",
   "execution_count": 30,
   "metadata": {},
   "outputs": [],
   "source": [
    "def fit_iteration(model, target_model, start_scenes, start_radars, actions, rewards, next_scenes, next_radars, is_terminal):\n",
    "    \n",
    "    # First, we predict the Q values of the next states. We pass ones as the \"mask\".\n",
    "    next_Q_values = target_model.predict([next_scenes, next_radars, np.ones((batch_size, n_actions))])\n",
    "    \n",
    "    # The Q value a terminal state is 0 by definition\n",
    "    next_Q_values[is_terminal] = 0\n",
    "    \n",
    "    # We apply the formula of the Q value\n",
    "    Q_values = rewards + gamma * np.max(next_Q_values, axis=0)\n",
    "    \n",
    "    # Fit the model.\n",
    "    model.fit([start_scenes, start_radars, actions], actions * Q_values[:, None], nb_epoch=2, batch_size=len(start_scenes), verbose=0)\n",
    "    \n",
    "    return model"
   ]
  },
  {
   "cell_type": "markdown",
   "metadata": {},
   "source": [
    "A function that returns the probability for epsilon-greedy exploration:"
   ]
  },
  {
   "cell_type": "code",
   "execution_count": 31,
   "metadata": {},
   "outputs": [],
   "source": [
    "def epsilon_from_iter(i):\n",
    "    if (i > epsilon):\n",
    "        return 0.1\n",
    "    else:\n",
    "        return (1 - epsilon * 0.9 * i)"
   ]
  },
  {
   "cell_type": "markdown",
   "metadata": {},
   "source": [
    "A utility function to save the model to a file"
   ]
  },
  {
   "cell_type": "code",
   "execution_count": 32,
   "metadata": {},
   "outputs": [],
   "source": [
    "def copy_model(model):\n",
    "    model.save('tmp_model')\n",
    "    return load_model('tmp_model', custom_objects={'huber_loss': huber_loss})"
   ]
  },
  {
   "cell_type": "code",
   "execution_count": 33,
   "metadata": {},
   "outputs": [],
   "source": [
    "def run_train(n_games, model, memory):\n",
    "    \n",
    "    i = 0\n",
    "    rew_max = 0\n",
    "    \n",
    "    for _ in range(n_games):\n",
    "    \n",
    "        j = 0\n",
    "        env.reset()\n",
    "\n",
    "        rew_total = 0\n",
    "        action = 0\n",
    "        done = False\n",
    "        is_terminal = np.zeros((1, n_actions))\n",
    "\n",
    "        stacked_radars = deque([], maxlen=n_frames)\n",
    "        stacked_scenes = deque([], maxlen=n_frames)\n",
    "        previous_radars = list()\n",
    "        previous_scenes = list()\n",
    "\n",
    "        while not done:\n",
    "\n",
    "            if RENDER:\n",
    "                env.render()\n",
    "\n",
    "            for _ in range(n_repetition):\n",
    "                observation, rew, done, info = env.step(action)\n",
    "\n",
    "            rew += 0.1 \n",
    "            rew_total += rew\n",
    "\n",
    "            previous_radars = deepcopy(stacked_radars)\n",
    "            previous_scenes = deepcopy(stacked_scenes)\n",
    "\n",
    "            stacked_radars, stacked_scenes = stack_frames(stacked_radars, stacked_scenes, observation)\n",
    "\n",
    "            if np.random.uniform() > epsilon_from_iter(i) and len(stacked_radars) == n_frames:\n",
    "                action = choose_action(model, stacked_radars, stacked_scenes)\n",
    "            else:\n",
    "                action = env.action_space.sample()\n",
    "\n",
    "\n",
    "            # Preparing data for the memory \n",
    "            if done:\n",
    "\n",
    "                is_terminal[0, action] = 1\n",
    "\n",
    "            if (j > 0):\n",
    "\n",
    "                start_radars = np.reshape(list(previous_radars),\n",
    "                                          (n_frames, previous_radars[0].shape[0]*previous_radars[0].shape[1]))\n",
    "                next_radars = np.reshape(list(stacked_radars),\n",
    "                                         (n_frames, stacked_radars[0].shape[0]*stacked_radars[0].shape[1]))\n",
    "\n",
    "                start_scenes = np.reshape(list(previous_scenes),\n",
    "                                          (n_frames,\n",
    "                                           previous_scenes[0].shape[0],\n",
    "                                           previous_scenes[0].shape[1]))\n",
    "                next_scenes = np.reshape(list(stacked_scenes),\n",
    "                                         (n_frames,\n",
    "                                          stacked_scenes[0].shape[0],\n",
    "                                          stacked_scenes[0].shape[1]))\n",
    "\n",
    "                actions = np.zeros((1,n_actions))\n",
    "                actions[0,action] = 1\n",
    "\n",
    "                is_terminal = np.zeros((1, n_actions), dtype=np.int16)\n",
    "                if done:\n",
    "                    is_terminal[0, action] = 1\n",
    "\n",
    "                memory.append([start_radars,\n",
    "                               start_scenes,\n",
    "                               actions,\n",
    "                               rew,\n",
    "                               next_radars,\n",
    "                               next_scenes,\n",
    "                               is_terminal])\n",
    "\n",
    "\n",
    "            # Stabilizing by copying the model every 10000 frames\n",
    "            if ((i % 10000) == 0 or (i < 5000 and i % 100 == 0)):\n",
    "                target_model = copy_model(model)\n",
    "\n",
    "            # Fitting the model every 256 frames\n",
    "            if (i > memory_size):\n",
    "\n",
    "                sample = memory.get_sample(batch_size)\n",
    "\n",
    "                start_radars, start_scenes, actionss, rews, next_radars, next_scenes, is_terminals = [], [], [], [], [], [], []\n",
    "\n",
    "                for s in sample:\n",
    "\n",
    "                    start_radars.append(s[0])\n",
    "                    start_scenes.append(s[1])\n",
    "                    actionss.append(s[2])\n",
    "                    rews.append(s[3])\n",
    "                    next_radars.append(s[4])\n",
    "                    next_scenes.append(s[5])\n",
    "                    is_terminals.append(s[6])\n",
    "\n",
    "                start_scenes = np.reshape(start_scenes, (batch_size, n_frames, 49, 76))\n",
    "                start_radars = np.reshape(start_radars, (batch_size, n_frames, 22 * 33))\n",
    "                actionss = np.reshape(actionss, (batch_size, n_actions))\n",
    "                rews = np.reshape(rews, (batch_size, 1))\n",
    "                next_scenes = np.reshape(next_scenes, (batch_size, n_frames, 49, 76))\n",
    "                next_radars = np.reshape(next_radars, (batch_size, n_frames, 22 * 33))\n",
    "                is_terminals = np.reshape(is_terminals, (batch_size, n_actions))\n",
    "\n",
    "                print(is_terminals[0])\n",
    "\n",
    "                model = fit_iteration(model,\n",
    "                                      target_model, \n",
    "                                      start_scenes,\n",
    "                                      start_radars,\n",
    "                                      actionss,\n",
    "                                      rews,\n",
    "                                      next_scenes,\n",
    "                                      next_radars,\n",
    "                                      is_terminals)\n",
    "            \n",
    "            rew_max = max(rew_max, rew_total)\n",
    "\n",
    "            i += 1\n",
    "            j += 1\n",
    "    print(rew_max)        \n",
    "    return model"
   ]
  },
  {
   "cell_type": "code",
   "execution_count": 34,
   "metadata": {},
   "outputs": [
    {
     "name": "stderr",
     "output_type": "stream",
     "text": [
      "/home/lotfi/.local/lib/python3.6/site-packages/ipykernel_launcher.py:42: UserWarning: Update your `Model` call to the Keras 2 API: `Model(inputs=[<tf.Tenso..., outputs=Tensor(\"mu...)`\n"
     ]
    }
   ],
   "source": [
    "model_to_train = model()\n",
    "\n",
    "memory = RingBuf(memory_size)"
   ]
  },
  {
   "cell_type": "code",
   "execution_count": 35,
   "metadata": {},
   "outputs": [
    {
     "name": "stdout",
     "output_type": "stream",
     "text": [
      "2051.7999999999847\n"
     ]
    }
   ],
   "source": [
    "model = run_train(10, model_to_train, memory)"
   ]
  }
 ],
 "metadata": {
  "kernelspec": {
   "display_name": "Python 3",
   "language": "python",
   "name": "python3"
  },
  "language_info": {
   "codemirror_mode": {
    "name": "ipython",
    "version": 3
   },
   "file_extension": ".py",
   "mimetype": "text/x-python",
   "name": "python",
   "nbconvert_exporter": "python",
   "pygments_lexer": "ipython3",
   "version": "3.6.7"
  }
 },
 "nbformat": 4,
 "nbformat_minor": 2
}
