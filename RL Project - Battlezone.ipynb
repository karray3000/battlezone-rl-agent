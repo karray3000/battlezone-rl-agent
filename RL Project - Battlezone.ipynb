{
 "cells": [
  {
   "cell_type": "markdown",
   "metadata": {},
   "source": [
    "First, let's install the OpenAI gym and Atari environment:"
   ]
  },
  {
   "cell_type": "code",
   "execution_count": 1,
   "metadata": {
    "scrolled": true
   },
   "outputs": [
    {
     "name": "stdout",
     "output_type": "stream",
     "text": [
      "Requirement already satisfied: gym in /home/elyes/anaconda3/lib/python3.6/site-packages (0.11.0)\n",
      "Requirement already satisfied: scipy in /home/elyes/anaconda3/lib/python3.6/site-packages (from gym) (1.2.1)\n",
      "Requirement already satisfied: numpy>=1.10.4 in /home/elyes/anaconda3/lib/python3.6/site-packages (from gym) (1.15.4)\n",
      "Requirement already satisfied: pyglet>=1.2.0 in /home/elyes/anaconda3/lib/python3.6/site-packages (from gym) (1.3.2)\n",
      "Requirement already satisfied: six in /home/elyes/anaconda3/lib/python3.6/site-packages (from gym) (1.12.0)\n",
      "Requirement already satisfied: requests>=2.0 in /home/elyes/anaconda3/lib/python3.6/site-packages (from gym) (2.21.0)\n",
      "Requirement already satisfied: future in /home/elyes/anaconda3/lib/python3.6/site-packages (from pyglet>=1.2.0->gym) (0.17.1)\n",
      "Requirement already satisfied: idna<2.9,>=2.5 in /home/elyes/anaconda3/lib/python3.6/site-packages (from requests>=2.0->gym) (2.8)\n",
      "Requirement already satisfied: chardet<3.1.0,>=3.0.2 in /home/elyes/anaconda3/lib/python3.6/site-packages (from requests>=2.0->gym) (3.0.4)\n",
      "Requirement already satisfied: urllib3<1.25,>=1.21.1 in /home/elyes/anaconda3/lib/python3.6/site-packages (from requests>=2.0->gym) (1.24.1)\n",
      "Requirement already satisfied: certifi>=2017.4.17 in /home/elyes/anaconda3/lib/python3.6/site-packages (from requests>=2.0->gym) (2018.11.29)\n"
     ]
    }
   ],
   "source": [
    "!pip install gym gym[atari]"
   ]
  },
  {
   "cell_type": "markdown",
   "metadata": {},
   "source": [
    "Let's import the needed libraries"
   ]
  },
  {
   "cell_type": "code",
   "execution_count": 2,
   "metadata": {},
   "outputs": [],
   "source": [
    "import gym, time\n",
    "import matplotlib.pyplot as plt\n",
    "import numpy as np\n",
    "from skimage import color"
   ]
  },
  {
   "cell_type": "markdown",
   "metadata": {},
   "source": [
    "Now, let's import Keras for our model later"
   ]
  },
  {
   "cell_type": "code",
   "execution_count": 3,
   "metadata": {},
   "outputs": [
    {
     "name": "stderr",
     "output_type": "stream",
     "text": [
      "Using TensorFlow backend.\n"
     ]
    }
   ],
   "source": [
    "from keras.layers import Input, Flatten, Dense, Concatenate, Multiply, MaxPooling2D\n",
    "from keras.layers.convolutional import Conv2D\n",
    "from keras.models import Model, Sequential\n",
    "from keras.optimizers import RMSprop"
   ]
  },
  {
   "cell_type": "markdown",
   "metadata": {},
   "source": [
    "# Cartpole example"
   ]
  },
  {
   "cell_type": "markdown",
   "metadata": {},
   "source": [
    "This example shows how to use an OpenAI gym environment.\n",
    "First, we choose and init the environment:"
   ]
  },
  {
   "cell_type": "code",
   "execution_count": 3,
   "metadata": {},
   "outputs": [
    {
     "data": {
      "text/plain": [
       "array([ 0.0072027 ,  0.04302043, -0.01092955,  0.01145781])"
      ]
     },
     "execution_count": 3,
     "metadata": {},
     "output_type": "execute_result"
    }
   ],
   "source": [
    "env = gym.make('CartPole-v0')\n",
    "env.reset()"
   ]
  },
  {
   "cell_type": "markdown",
   "metadata": {},
   "source": [
    "Then we iterate for a big number of times. Each time, we do the following:\n",
    "* Render the environment\n",
    "* Get the observation, the reward and the `done` variable (it indicates whether we lost or not\n",
    "* (Optional) Sleep for 20ms, makes the animation smoother\n",
    "* (Optional) If we lost (`done == True`), reset the environment\n",
    "    "
   ]
  },
  {
   "cell_type": "code",
   "execution_count": 5,
   "metadata": {},
   "outputs": [],
   "source": [
    "for _ in range(50):\n",
    "    env.render()\n",
    "    obs, rew, done, info = env.step(env.action_space.sample()) # take a random action\n",
    "    time.sleep(0.02)\n",
    "    # Comment the two following lines to see cases of \"failure\"\n",
    "    #if done:\n",
    "    #   env.reset()\n",
    "env.close()"
   ]
  },
  {
   "cell_type": "markdown",
   "metadata": {},
   "source": [
    "`obs` is an array of length 4, whose values are: <br/>\n",
    "`[position of cart, velocity of cart, angle of pole, rotation rate of pole]`"
   ]
  },
  {
   "cell_type": "markdown",
   "metadata": {},
   "source": [
    "# BattleZone environment\n"
   ]
  },
  {
   "cell_type": "markdown",
   "metadata": {},
   "source": [
    "Actually, there are 12 environments. The main difference is the observation type:\n",
    "* The \"normal\" environments: observations are the frames of the game. They are bigger and more complex to analyse, but more intuitive.\n",
    "* The RAM environments: observations are a 128-byte arrays, representing the RAM of the Atari console. Lighter to use, but we do not know what each byte represents.\n",
    "\n",
    "The environment is provided in binary so we cannot modify it. Besides, it is hard to replicate the logic behind the spawning of enemies, so we chose to use the OpenAI environments directly."
   ]
  },
  {
   "cell_type": "code",
   "execution_count": 4,
   "metadata": {},
   "outputs": [],
   "source": [
    "battlezone_envs = ['BattleZone-v0', \n",
    "        'BattleZone-v4',\n",
    "        'BattleZoneDeterministic-v0', \n",
    "        'BattleZoneDeterministic-v4', \n",
    "        'BattleZoneNoFrameskip-v0', \n",
    "        'BattleZoneNoFrameskip-v4',\n",
    "        'BattleZone-ram-v0',\n",
    "        'BattleZone-ram-v4',\n",
    "        'BattleZone-ramDeterministic-v0', \n",
    "        'BattleZone-ramDeterministic-v4', \n",
    "        'BattleZone-ramNoFrameskip-v0',\n",
    "        'BattleZone-ramNoFrameskip-v4']"
   ]
  },
  {
   "cell_type": "markdown",
   "metadata": {},
   "source": [
    "## Normal environment:"
   ]
  },
  {
   "cell_type": "code",
   "execution_count": 5,
   "metadata": {},
   "outputs": [],
   "source": [
    "env_number = 0\n",
    "env = gym.make(battlezone_envs[env_number])\n",
    "\n",
    "env.reset()\n",
    "for _ in range(200):\n",
    "    env.render()\n",
    "    obs, rew, done, info = env.step(env.action_space.sample()) # take a random action\n",
    "    time.sleep(0.02)\n",
    "env.close()"
   ]
  },
  {
   "cell_type": "code",
   "execution_count": 6,
   "metadata": {},
   "outputs": [
    {
     "data": {
      "text/plain": [
       "(210, 160, 3)"
      ]
     },
     "execution_count": 6,
     "metadata": {},
     "output_type": "execute_result"
    }
   ],
   "source": [
    "obs.shape"
   ]
  },
  {
   "cell_type": "markdown",
   "metadata": {},
   "source": [
    "### Preprocessing"
   ]
  },
  {
   "cell_type": "markdown",
   "metadata": {},
   "source": [
    "We try to get the dimensions of the interesting parts of the observation"
   ]
  },
  {
   "cell_type": "code",
   "execution_count": 7,
   "metadata": {},
   "outputs": [
    {
     "data": {
      "text/plain": [
       "<matplotlib.image.AxesImage at 0x7f27bd7f6a20>"
      ]
     },
     "execution_count": 7,
     "metadata": {},
     "output_type": "execute_result"
    },
    {
     "data": {
      "image/png": "[encoded data removed]",
      "text/plain": [
       "<Figure size 432x288 with 1 Axes>"
      ]
     },
     "metadata": {
      "needs_background": "light"
     },
     "output_type": "display_data"
    }
   ],
   "source": [
    "plt.imshow(obs[3:36,74:96])"
   ]
  },
  {
   "cell_type": "code",
   "execution_count": 8,
   "metadata": {},
   "outputs": [
    {
     "data": {
      "text/plain": [
       "<matplotlib.image.AxesImage at 0x7f27bd77f588>"
      ]
     },
     "execution_count": 8,
     "metadata": {},
     "output_type": "execute_result"
    },
    {
     "data": {
      "image/png": "[encoded data removed]",
      "text/plain": [
       "<Figure size 432x288 with 1 Axes>"
      ]
     },
     "metadata": {
      "needs_background": "light"
     },
     "output_type": "display_data"
    }
   ],
   "source": [
    "plt.imshow(obs[38:178,8:])"
   ]
  },
  {
   "cell_type": "code",
   "execution_count": 9,
   "metadata": {},
   "outputs": [],
   "source": [
    "def to_gray(img):\n",
    "    # Convert images to grayscale with values between 0 and 1\n",
    "    return color.rgb2gray(img).astype(np.float32)"
   ]
  },
  {
   "cell_type": "code",
   "execution_count": 10,
   "metadata": {},
   "outputs": [],
   "source": [
    "def downsample(img):\n",
    "    # Downsampling an image for faster computing\n",
    "    return img[::2, ::2]"
   ]
  },
  {
   "cell_type": "code",
   "execution_count": 11,
   "metadata": {},
   "outputs": [],
   "source": [
    "def preprocessing(obs):\n",
    "    radar = obs[3:36,74:96]\n",
    "    scene = obs[38:178,8:]\n",
    "    radar = to_gray(radar)\n",
    "    scene = downsample(to_gray(scene))\n",
    "    return radar, scene"
   ]
  },
  {
   "cell_type": "code",
   "execution_count": 12,
   "metadata": {},
   "outputs": [],
   "source": [
    "radar, scene = preprocessing(obs)"
   ]
  },
  {
   "cell_type": "code",
   "execution_count": 13,
   "metadata": {},
   "outputs": [
    {
     "data": {
      "text/plain": [
       "<matplotlib.image.AxesImage at 0x7f27bd6e3d30>"
      ]
     },
     "execution_count": 13,
     "metadata": {},
     "output_type": "execute_result"
    },
    {
     "data": {
      "image/png": "[encoded data removed]",
      "text/plain": [
       "<Figure size 432x288 with 1 Axes>"
      ]
     },
     "metadata": {
      "needs_background": "light"
     },
     "output_type": "display_data"
    }
   ],
   "source": [
    "plt.imshow(scene, cmap=\"gray\")"
   ]
  },
  {
   "cell_type": "code",
   "execution_count": 14,
   "metadata": {},
   "outputs": [
    {
     "name": "stdout",
     "output_type": "stream",
     "text": [
      "(33, 22) (70, 76)\n"
     ]
    }
   ],
   "source": [
    "print(radar.shape, scene.shape)"
   ]
  },
  {
   "cell_type": "markdown",
   "metadata": {},
   "source": [
    "#### Agent"
   ]
  },
  {
   "cell_type": "markdown",
   "metadata": {},
   "source": [
    "We will be giving the model a number of frames at a time (the time of the last projectile sent can be a determining factor, so the agent may need it)"
   ]
  },
  {
   "cell_type": "code",
   "execution_count": 15,
   "metadata": {},
   "outputs": [],
   "source": [
    "n_frames = 2 #Number of input frames per input\n",
    "n_actions = 18 #Dimension of action space\n",
    "batch_size = 1 #Number of entries (states+actions) to feed the NN"
   ]
  },
  {
   "cell_type": "code",
   "execution_count": 16,
   "metadata": {},
   "outputs": [],
   "source": [
    "def sample_net():\n",
    "     # Shapes of entries\n",
    "    scene_shape = (70, 76, n_frames) # We will be using the number of frames as the number of channels \n",
    "    radar_shape = (33,22, n_frames)\n",
    "    \n",
    "    # Input layers\n",
    "    scene_inp = Input(shape=scene_shape, name='scenes')#, batch_shape=(n_frames, 70, 76))\n",
    "    radar_inp = Input(shape=radar_shape, name='radars')#, batch_shape=(n_frames, 33, 22))\n",
    "    actions_inp = Input((n_actions,), name='actions')\n",
    "    \n",
    "    # First convolution layers\n",
    "    conv1_1 = Conv2D(filters=8, kernel_size=(8, 8), strides=(4, 4), activation='relu', data_format=\"channels_last\")(scene_inp)\n",
    "    conv2_1 = Conv2D(filters=8, kernel_size=(4, 4), strides=(2, 2), activation='relu', data_format=\"channels_last\")(radar_inp)\n",
    "    \n",
    "    # First maxpooling attempt\n",
    "    maxpool1_1 = MaxPooling2D(pool_size=(8, 8), strides=(4, 4))(conv1_1)\n",
    "    maxpool2_1 = MaxPooling2D(pool_size=(4, 4), strides=(2, 2))(conv2_1)\n",
    "    \n",
    "    # Flattening results\n",
    "    flattened_1 = Flatten()(maxpool1_1)\n",
    "    flattened_2 = Flatten()(maxpool2_1)\n",
    "    \n",
    "    # Concatenating the results of the two entries\n",
    "    concat = Concatenate(axis=1)([flattened_1, flattened_2])\n",
    "    \n",
    "    # Output layer\n",
    "    output = Dense(n_actions, activation='relu')(concat)\n",
    "    \n",
    "    # Multiply by the actions\n",
    "    filtered_output = Multiply()([output, actions_inp])\n",
    "    \n",
    "    # Creating the model\n",
    "    model = Model(input=[scene_inp, radar_inp, actions_inp], \n",
    "                  output=filtered_output,\n",
    "                 )\n",
    "    \n",
    "    # Optimizer choice and tuning\n",
    "    rms = RMSprop(lr = 0.00025)\n",
    "    \n",
    "    # Compiling\n",
    "    model.compile(optimizer=rms, loss='mse')\n",
    "    \n",
    "    return model\n",
    "    "
   ]
  },
  {
   "cell_type": "code",
   "execution_count": 17,
   "metadata": {},
   "outputs": [],
   "source": [
    "def nor_env_net():\n",
    "    \n",
    "    # Shapes of entries\n",
    "    scene_shape = (70, 76, n_frames) # We will be using the number of frames as the number of channels \n",
    "    radar_shape = (33,22, n_frames)\n",
    "    \n",
    "    # Input layers\n",
    "    scene_inp = Input(scene_shape, name='scenes')#, batch_shape=(4, 70, 76))\n",
    "    radar_inp = Input(radar_shape, name='radars')#, batch_shape=(4, 33, 22))\n",
    "    actions_inp = Input((n_actions,), name='actions')\n",
    "    \n",
    "    # First convolution layers\n",
    "    conv1_1 = Conv2D(filters=16, kernel_size=(8, 8), strides=(4, 4), activation='relu')(scene_inp)\n",
    "    conv2_1 = Conv2D(filters=16, kernel_size=(4, 4), strides=(2, 2), activation='relu')(radar_inp)\n",
    "    \n",
    "    # First maxpooling attempt\n",
    "    maxpool1_1 = MaxPooling2D(pool_size=(8, 8), strides=(4, 4))(conv1_1)\n",
    "    maxpool2_1 = MaxPooling2D(pool_size=(4, 4), strides=(2, 2))(conv2_1)\n",
    "    \n",
    "    # Second convolutional layers\n",
    "    conv1_2 = Conv2D(filters=32, kernel_size=(4, 4), strides=(2, 2), activation='relu')(maxpool1_1)\n",
    "    conv2_2 = Conv2D(filters=32, kernel_size=(2, 2), strides=(1, 1), activation='relu')(maxpool2_1)\n",
    "    \n",
    "    # Second maxpooling attempt\n",
    "    maxpool1_2 = MaxPooling2D(pool_size=(4, 4), strides=(2, 2))(conv1_2)\n",
    "    maxpool2_2 = MaxPooling2D(pool_size=(2, 2), strides=(1, 1))(conv2_2)\n",
    "    \n",
    "    # Flattening results\n",
    "    flattened_1 = Flatten('channels_first')(maxpool1_2)\n",
    "    flattened_2 = Flatten('channels_first')(maxpool2_2)\n",
    "    \n",
    "    # Concatenating the results of the two entries\n",
    "    concat = Concatenate(axis=1)([flattened_1, flattened_2])\n",
    "    \n",
    "    # Applying a fully-connected layer\n",
    "    hidden_layer = Dense(256, activation='relu')(concat)\n",
    "    \n",
    "    # Output layer\n",
    "    output = Dense(n_actions, activation='relu')(hidden_layer)\n",
    "    \n",
    "    # Multiply by the actions\n",
    "    filtered_output = Multiply()([output, actions_inp])\n",
    "    \n",
    "    # Creating the model\n",
    "    model = Model(input=[scene_inp, radar_inp, actions_inp], \n",
    "                  output=filtered_output,\n",
    "                 )\n",
    "    \n",
    "    # Optimizer choice and tuning\n",
    "    rms = RMSprop(lr = 0.00025)\n",
    "    \n",
    "    # Compiling\n",
    "    model.compile(optimizer=rms, loss='mse')\n",
    "    \n",
    "    return model"
   ]
  },
  {
   "cell_type": "code",
   "execution_count": 18,
   "metadata": {},
   "outputs": [
    {
     "name": "stderr",
     "output_type": "stream",
     "text": [
      "/home/elyes/anaconda3/lib/python3.6/site-packages/ipykernel_launcher.py:34: UserWarning: Update your `Model` call to the Keras 2 API: `Model(inputs=[<tf.Tenso..., outputs=Tensor(\"mu...)`\n"
     ]
    }
   ],
   "source": [
    "from keras.utils import plot_model\n",
    "#model = nor_env_net()\n",
    "model = sample_net()\n",
    "plot_model(model,\n",
    "           to_file='model.png',\n",
    "           show_shapes=True)"
   ]
  },
  {
   "cell_type": "code",
   "execution_count": 19,
   "metadata": {},
   "outputs": [],
   "source": [
    "scenes = list()\n",
    "radars = list()\n",
    "radar, scene = preprocessing(obs)\n",
    "\n",
    "for i in range(n_frames):\n",
    "    radars.append(radar)\n",
    "    scenes.append(scene)"
   ]
  },
  {
   "cell_type": "code",
   "execution_count": 20,
   "metadata": {},
   "outputs": [
    {
     "name": "stdout",
     "output_type": "stream",
     "text": [
      "(2, 33, 22)\n",
      "(2, 70, 76)\n"
     ]
    }
   ],
   "source": [
    "s1 = (len(radars), radar.shape[0], radar.shape[1])\n",
    "s2 = (len(scenes), scene.shape[0], scene.shape[1])\n",
    "print(s1)\n",
    "print(s2)"
   ]
  },
  {
   "cell_type": "code",
   "execution_count": 21,
   "metadata": {},
   "outputs": [
    {
     "data": {
      "text/plain": [
       "array([0.2806306, 0.2806306, 0.2806306, 0.2806306, 0.2806306, 0.2806306,\n",
       "       0.2806306, 0.2806306, 0.2806306, 0.2806306, 0.2806306, 0.2806306,\n",
       "       0.2806306, 0.2806306, 0.2806306, 0.2806306, 0.2806306, 0.2806306,\n",
       "       0.2806306, 0.2806306, 0.2806306, 0.2806306, 0.2806306, 0.2806306,\n",
       "       0.2806306, 0.2806306, 0.2806306, 0.2806306, 0.2806306, 0.2806306,\n",
       "       0.2806306, 0.2806306, 0.2806306, 0.2806306, 0.2806306, 0.2806306,\n",
       "       0.2806306, 0.2806306, 0.2806306, 0.2806306, 0.2806306, 0.2806306,\n",
       "       0.2806306, 0.2806306, 0.2806306, 0.2806306, 0.2806306, 0.2806306,\n",
       "       0.2806306, 0.2806306, 0.2806306, 0.2806306, 0.2806306, 0.2806306,\n",
       "       0.2806306, 0.2806306, 0.2806306, 0.2806306, 0.2806306, 0.2806306,\n",
       "       0.2806306, 0.2806306, 0.2806306, 0.2806306, 0.2806306, 0.2806306,\n",
       "       0.2806306, 0.2806306, 0.2806306, 0.2806306, 0.2806306, 0.2806306,\n",
       "       0.2806306, 0.2806306, 0.2806306, 0.2806306], dtype=float32)"
      ]
     },
     "execution_count": 21,
     "metadata": {},
     "output_type": "execute_result"
    }
   ],
   "source": [
    "scenes[0][0]"
   ]
  },
  {
   "cell_type": "code",
   "execution_count": 22,
   "metadata": {},
   "outputs": [],
   "source": [
    "\"\"\"for i in range(s1[0]):\n",
    "    for j in range(s1[1]):\n",
    "        for k in range(s1[2]):\n",
    "            radars_array[i,j,k] = radars[i][j,k]\n",
    "            \n",
    "for i in range(s2[0]):\n",
    "    for j in range(s2[1]):\n",
    "        for k in range(s2[2]):\n",
    "            scenes_array[i,j,k] = scenes[i][j,k]\n",
    "\"\"\"\n",
    "radars = np.reshape(radars, (batch_size, radar.shape[0], radar.shape[1], n_frames))\n",
    "scenes = np.reshape(scenes, (batch_size, scene.shape[0], scene.shape[1], n_frames))"
   ]
  },
  {
   "cell_type": "code",
   "execution_count": 23,
   "metadata": {},
   "outputs": [
    {
     "data": {
      "text/plain": [
       "(1, 33, 22, 2)"
      ]
     },
     "execution_count": 23,
     "metadata": {},
     "output_type": "execute_result"
    }
   ],
   "source": [
    "radars.shape"
   ]
  },
  {
   "cell_type": "code",
   "execution_count": 55,
   "metadata": {},
   "outputs": [
    {
     "name": "stderr",
     "output_type": "stream",
     "text": [
      "/home/elyes/anaconda3/lib/python3.6/site-packages/ipykernel_launcher.py:34: UserWarning: Update your `Model` call to the Keras 2 API: `Model(inputs=[<tf.Tenso..., outputs=Tensor(\"mu...)`\n"
     ]
    }
   ],
   "source": [
    "model = sample_net()"
   ]
  },
  {
   "cell_type": "code",
   "execution_count": 56,
   "metadata": {},
   "outputs": [],
   "source": [
    "l = model.predict([scenes, radars, np.ones((1,18))])"
   ]
  },
  {
   "cell_type": "code",
   "execution_count": 57,
   "metadata": {},
   "outputs": [
    {
     "data": {
      "text/plain": [
       "14"
      ]
     },
     "execution_count": 57,
     "metadata": {},
     "output_type": "execute_result"
    }
   ],
   "source": [
    "np.argmax(l)"
   ]
  },
  {
   "cell_type": "markdown",
   "metadata": {},
   "source": [
    "Our model being already defined, we will now implement a function that will run a fitting iteration: We will be using a Deep Q-learning approach, improving our network everytime the agent makes an action."
   ]
  },
  {
   "cell_type": "code",
   "execution_count": 27,
   "metadata": {},
   "outputs": [],
   "source": [
    "def fit_iteration(model, gamma, start_scenes, start_radars, actions, rewards, next_scenes, next_radars, is_terminal):\n",
    "    \"\"\"\n",
    "    Params:\n",
    "    - model: The DQN defined in the last cell\n",
    "    - gamma: \"Discount factor\" (should be 0.99)\n",
    "    - start_scenes & start_radars: starting states\n",
    "    - actions: array of one-hot encoded actions corresponding to the start states\n",
    "    - rewards: array of rewards corresponding to the start states and actions\n",
    "    - next_scenes & next_radars: the resulting states corresponding to the start states and actions\n",
    "    - is_terminal: boolean array of whether the resulting state is terminal\n",
    "    \n",
    "    \"\"\"\n",
    "    # First, we predict the Q values of the next states. We pass ones as the \"mask\".\n",
    "    next_Q_values = model.predict([next_scenes, next_radars, np.ones(actions.shape)])\n",
    "    \n",
    "    # The Q value a terminal state is 0 by definition\n",
    "    next_Q_values[is_terminal] = 0\n",
    "    \n",
    "    # We apply the formula of the Q value\n",
    "    Q_values = rewards + gamma * np.max(next_Q_values, axis=1)\n",
    "    \n",
    "    # Fit the model.\n",
    "    model.fit([start_scenes, start_radars, actions], actions * Q_values[:, None], nb_epoch=1, batch_size=len(start_scenes), verbose=0)\n",
    "    \n",
    "    return model"
   ]
  },
  {
   "cell_type": "markdown",
   "metadata": {},
   "source": [
    "We will be using a buffer (a ringed buffer specifically) in order to put a limit to the memory usage (and prevent any saturation or malfunctioning of our agent)"
   ]
  },
  {
   "cell_type": "code",
   "execution_count": null,
   "metadata": {},
   "outputs": [],
   "source": [
    "class RingBuf:\n",
    "    \n",
    "    def __init__(self, size):\n",
    "        # We allocate one extra element, so that self.start == self.end always means the buffer is empty\n",
    "        self.data = [None] * (size + 1) # Size will indicate the size of memory we want to allocate\n",
    "        self.start = 0\n",
    "        self.end = 0\n",
    "        \n",
    "    def append(self, element):\n",
    "        self.data[self.end] = element\n",
    "        self.end = (self.end + 1) % len(self.data)\n",
    "        # end == start means the buffer has one too many element. \n",
    "        # We then remove the first element by incrementing start.\n",
    "        if (self.end == self.start):\n",
    "            self.start = (self.start + 1) % len(self.data)\n",
    "        \n",
    "    def __getitem__(self, index):\n",
    "        return self.data[(self.start + index) % len(self.data)]\n",
    "    \n",
    "    def __len__(self):\n",
    "        if (self.end < self.start):\n",
    "            return (self.end + len(self.data) - self.start)\n",
    "        else:\n",
    "            return (self.end - self.start)\n",
    "        \n",
    "    def __iter__(self):\n",
    "        for i in range(len(self)):\n",
    "            yield self[i]"
   ]
  },
  {
   "cell_type": "code",
   "execution_count": 102,
   "metadata": {},
   "outputs": [],
   "source": [
    "class doubleEdgedQueue(list):\n",
    "    \n",
    "    def __init__(self, size):\n",
    "        super().__init__()\n",
    "        self.size = size\n",
    "        \n",
    "    def add(self,el):\n",
    "        if len(self) >= self.size:\n",
    "            self.remove(0)\n",
    "        self.append(el)\n",
    "        \n",
    "    def get_size(self):\n",
    "        return self.size"
   ]
  },
  {
   "cell_type": "code",
   "execution_count": 34,
   "metadata": {},
   "outputs": [],
   "source": [
    "def epsilon_from_iter(i):\n",
    "    if (i > 1e6):\n",
    "        return 0.1\n",
    "    else:\n",
    "        return (1 - 1e-6 * 0.9 * i)"
   ]
  },
  {
   "cell_type": "code",
   "execution_count": 74,
   "metadata": {},
   "outputs": [],
   "source": [
    "def choose_action(model, observations):\n",
    "    # Choose the best action according to the model's prediction\n",
    "    \n",
    "    #Initializing\n",
    "    scenes = list()\n",
    "    radars = list()\n",
    "    \n",
    "    # Preprocessing the observations\n",
    "    for obs in observations:\n",
    "        radar, scene = preprocessing(obs)\n",
    "        radars.append(radar)\n",
    "        scenes.append(scene)\n",
    "        \n",
    "    # Reshaping for the model to use (typically 4 frames of each type, as the model has 4 input channels)\n",
    "    radars = np.reshape(radars, (batch_size, radar.shape[0], radar.shape[1], n_frames))\n",
    "    scenes = np.reshape(scenes, (batch_size, scene.shape[0], scene.shape[1], n_frames))\n",
    "    \n",
    "    prediction = model.predict([scenes, radars, np.ones((1,18))])\n",
    "    \n",
    "    return np.argmax(prediction)"
   ]
  },
  {
   "cell_type": "code",
   "execution_count": 75,
   "metadata": {},
   "outputs": [],
   "source": [
    "from collections import deque"
   ]
  },
  {
   "cell_type": "code",
   "execution_count": 78,
   "metadata": {},
   "outputs": [],
   "source": [
    "def run_game(n_games, model):\n",
    "    \n",
    "    gamma = 0.9\n",
    "    i = 0\n",
    "    rew_max = 0\n",
    "    \n",
    "    for _ in range(n_games):\n",
    "        \n",
    "        rew_total = 0\n",
    "        env.reset()\n",
    "        action = 0\n",
    "        \n",
    "        done = False\n",
    "        \n",
    "        #observations = doubleEdgedQueue(n_frames)\n",
    "        \n",
    "        observations = deque(maxlen=n_frames)\n",
    "        \n",
    "        while not done :\n",
    "            env.render()\n",
    "            obs, rew, done, info = env.step(action)\n",
    "            observations.append(obs)\n",
    "            #observations.add(obs)\n",
    "            \n",
    "            if np.random.uniform() > epsilon_from_iter(i) and len(observations) == n_frames:\n",
    "                action = choose_action(model, observations)\n",
    "            else:\n",
    "                action = env.action_space.sample()\n",
    "                \n",
    "            #model = fit_iteration(model, gamma, start_scenes, start_radars, actions, rewards, next_scenes, next_radars, is_terminal)\n",
    "\n",
    "            i += 1\n",
    "            rew_total += rew\n",
    "            \n",
    "        rew_max = max(rew_max, rew_total)\n",
    "        env.close()\n",
    "    \n",
    "    return rew_max"
   ]
  },
  {
   "cell_type": "code",
   "execution_count": 82,
   "metadata": {},
   "outputs": [
    {
     "data": {
      "text/plain": [
       "2000.0"
      ]
     },
     "execution_count": 82,
     "metadata": {},
     "output_type": "execute_result"
    }
   ],
   "source": [
    "run_game(1, model)"
   ]
  },
  {
   "cell_type": "markdown",
   "metadata": {},
   "source": [
    "## RAM environment"
   ]
  },
  {
   "cell_type": "code",
   "execution_count": 8,
   "metadata": {},
   "outputs": [],
   "source": [
    "env_number = 6\n",
    "env = gym.make(battlezone_envs[env_number])\n",
    "\n",
    "env.reset()\n",
    "for _ in range(100):\n",
    "    env.render()\n",
    "    obs, rew, done, info = env.step(env.action_space.sample()) # take a random action\n",
    "    time.sleep(0.02)\n",
    "env.close()"
   ]
  },
  {
   "cell_type": "code",
   "execution_count": 9,
   "metadata": {},
   "outputs": [
    {
     "data": {
      "text/plain": [
       "(128,)"
      ]
     },
     "execution_count": 9,
     "metadata": {},
     "output_type": "execute_result"
    }
   ],
   "source": [
    "obs.shape"
   ]
  }
 ],
 "metadata": {
  "kernelspec": {
   "display_name": "Python 3",
   "language": "python",
   "name": "python3"
  },
  "language_info": {
   "codemirror_mode": {
    "name": "ipython",
    "version": 3
   },
   "file_extension": ".py",
   "mimetype": "text/x-python",
   "name": "python",
   "nbconvert_exporter": "python",
   "pygments_lexer": "ipython3",
   "version": "3.6.8"
  }
 },
 "nbformat": 4,
 "nbformat_minor": 2
}
